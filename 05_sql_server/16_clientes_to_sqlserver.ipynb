{
 "cells": [
  {
   "cell_type": "code",
   "execution_count": 58,
   "metadata": {},
   "outputs": [
    {
     "data": {
      "text/plain": [
       "'\\nCREATE TABLE Clientes(\\n\\tid int,\\n\\tcreated_at datetime,\\n\\tfirst_name nvarchar(255),\\n\\tlast_name nvarchar(255),\\n\\temail nvarchar(255),\\n\\tcell_phone nvarchar(255),\\n\\tcountry nvarchar(255),\\n\\tstate nvarchar(255),\\n\\tstreet nvarchar(255),\\n\\tnumber nvarchar(255),\\n\\tadditionals nvarchar(255)\\n)\\n\\n'"
      ]
     },
     "execution_count": 58,
     "metadata": {},
     "output_type": "execute_result"
    }
   ],
   "source": [
    "\"\"\"\n",
    "CREATE TABLE Clientes(\n",
    "\tid int,\n",
    "\tcreated_at datetime,\n",
    "\tfirst_name nvarchar(255),\n",
    "\tlast_name nvarchar(255),\n",
    "\temail nvarchar(255),\n",
    "\tcell_phone nvarchar(255),\n",
    "\tcountry nvarchar(255),\n",
    "\tstate nvarchar(255),\n",
    "\tstreet nvarchar(255),\n",
    "\tnumber nvarchar(255),\n",
    "\tadditionals nvarchar(255)\n",
    ")\n",
    "\n",
    "\"\"\""
   ]
  },
  {
   "cell_type": "code",
   "execution_count": 59,
   "metadata": {},
   "outputs": [],
   "source": [
    "\n",
    "import pandas as pd\n",
    "import pyodbc \n",
    "\n",
    "server = 'DESKTOP-505F0PE'\n",
    "database = 'Python' \n",
    "conexaoDB = pyodbc.connect('DRIVER={ODBC Driver 17 for SQL Server};'\n",
    "                      f'SERVER={server};'\n",
    "                      f'DATABASE={database};'\n",
    "                      'Trusted_Connection=yes;')\n",
    "\n",
    "cursor = conexaoDB.cursor()  "
   ]
  },
  {
   "cell_type": "code",
   "execution_count": 60,
   "metadata": {},
   "outputs": [],
   "source": [
    "dados = pd.read_csv(r\"D:\\engenharia de dados\\curso udemy\\Arquivos\\04.+ETL+Pandas\\04. ETL Pandas\\arquivos_csv\\Clientes.csv\")"
   ]
  },
  {
   "cell_type": "code",
   "execution_count": 61,
   "metadata": {},
   "outputs": [],
   "source": [
    "dados['created_at'] = pd.to_datetime(dados['created_at'])\n",
    "dados['email'] = dados['email'].fillna('Sem Registro')\n",
    "dados['street'] = dados['street'].fillna('Sem Info')\n",
    "dados['number'] = dados['number'].fillna('Sem Número')\n",
    "dados['additionals'] = dados['additionals'].fillna('Sem Info')"
   ]
  },
  {
   "cell_type": "code",
   "execution_count": 62,
   "metadata": {},
   "outputs": [
    {
     "name": "stdout",
     "output_type": "stream",
     "text": [
      "Coluna: id, Tipo de dados: int64\n",
      "Coluna: created_at, Tipo de dados: datetime64[ns]\n",
      "Coluna: first_name, Tipo de dados: object\n",
      "Coluna: last_name, Tipo de dados: object\n",
      "Coluna: email, Tipo de dados: object\n",
      "Coluna: cell_phone, Tipo de dados: object\n",
      "Coluna: country, Tipo de dados: object\n",
      "Coluna: state, Tipo de dados: object\n",
      "Coluna: street, Tipo de dados: object\n",
      "Coluna: number, Tipo de dados: object\n",
      "Coluna: additionals, Tipo de dados: object\n"
     ]
    }
   ],
   "source": [
    "for coluna in dados.columns:\n",
    "    print(f\"Coluna: {coluna}, Tipo de dados: {dados[coluna].dtypes}\")"
   ]
  },
  {
   "cell_type": "code",
   "execution_count": 63,
   "metadata": {},
   "outputs": [
    {
     "data": {
      "text/plain": [
       "'Index([id, created_at, first_name, last_name, email, cell_phone,\\n       country, state, street, number, additionals],\\n      dtype=object)'"
      ]
     },
     "execution_count": 63,
     "metadata": {},
     "output_type": "execute_result"
    }
   ],
   "source": [
    "str(dados.columns).replace(\"'\",\"\")"
   ]
  },
  {
   "cell_type": "code",
   "execution_count": 64,
   "metadata": {},
   "outputs": [],
   "source": [
    "cursor.execute('truncate table [Clientes]') \n",
    "cursor.commit()"
   ]
  },
  {
   "cell_type": "code",
   "execution_count": 65,
   "metadata": {},
   "outputs": [],
   "source": [
    "for index, linha in dados.iterrows():\n",
    "    \n",
    "    linha.email = str(linha.email)\n",
    "    linha.cell_phone = str(linha.cell_phone)\n",
    "    linha.country = str(linha.country)\n",
    "    linha.state = str(linha.state)\n",
    "\n",
    "    cursor.execute(\"Insert into [Clientes](id, created_at, first_name, last_name, email, cell_phone, country, state, street, number, additionals)values(?,?,?,?,?,?,?,?,?,?,?)\",linha.id,linha.created_at,linha.first_name,\n",
    "                   linha.last_name, linha.email, linha.cell_phone, linha.country, linha.state, linha.street, linha.number, linha.additionals) \n",
    "    \n",
    "cursor.commit()   \n",
    "cursor.close()\n",
    "conexaoDB.close() "
   ]
  },
  {
   "cell_type": "markdown",
   "metadata": {},
   "source": []
  }
 ],
 "metadata": {
  "kernelspec": {
   "display_name": "sgbds",
   "language": "python",
   "name": "python3"
  },
  "language_info": {
   "codemirror_mode": {
    "name": "ipython",
    "version": 3
   },
   "file_extension": ".py",
   "mimetype": "text/x-python",
   "name": "python",
   "nbconvert_exporter": "python",
   "pygments_lexer": "ipython3",
   "version": "3.13.5"
  }
 },
 "nbformat": 4,
 "nbformat_minor": 4
}
