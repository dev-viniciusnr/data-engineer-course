{
 "cells": [
  {
   "cell_type": "markdown",
   "id": "b2dc9ee8",
   "metadata": {},
   "source": [
    "Sending commands to MySQL"
   ]
  },
  {
   "cell_type": "code",
   "execution_count": 2,
   "id": "53f02a43",
   "metadata": {},
   "outputs": [],
   "source": [
    "import mysql.connector\n",
    "import pandas as pd\n",
    "\n",
    "cnx = mysql.connector.connect(user='root', password='teste123', host='localhost', database='python')  \n",
    "cursor = cnx.cursor()        \n",
    "\n",
    "comando = '''\n",
    "    DELETE FROM python.testepython;\n",
    "    '''\n",
    "\n",
    "cursor.execute(comando)\n",
    "cnx.commit()\n",
    "\n",
    "cursor.close()\n",
    "cnx.close()    "
   ]
  }
 ],
 "metadata": {
  "kernelspec": {
   "display_name": "sgbds",
   "language": "python",
   "name": "python3"
  },
  "language_info": {
   "codemirror_mode": {
    "name": "ipython",
    "version": 3
   },
   "file_extension": ".py",
   "mimetype": "text/x-python",
   "name": "python",
   "nbconvert_exporter": "python",
   "pygments_lexer": "ipython3",
   "version": "3.13.5"
  }
 },
 "nbformat": 4,
 "nbformat_minor": 5
}
