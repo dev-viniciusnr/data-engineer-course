{
 "cells": [
  {
   "cell_type": "code",
   "execution_count": 3,
   "id": "53f02a43",
   "metadata": {},
   "outputs": [],
   "source": [
    "import mysql.connector\n",
    "import pandas as pd\n",
    "\n",
    "def carga_categories(df_categories):\n",
    "    cnx = mysql.connector.connect(user='root', password='teste123', host='localhost', database='python')  \n",
    "    cursor = cnx.cursor()        \n",
    "\n",
    "    for i, df_categories_coluna in df_categories.iterrows():\n",
    "        cursor.execute('SELECT category_id FROM python.categories WHERE category_id = %s',(df_categories_coluna['category_id'],))\n",
    "        result = cursor.fetchone()\n",
    "\n",
    "        if not result :\n",
    "            cursor.execute(\n",
    "                '''\n",
    "                INSERT INTO python.categories\n",
    "                (category_id, category_name)\n",
    "                VALUES (%s, %s)    \n",
    "                ''',(\n",
    "                    df_categories_coluna['category_id'],\n",
    "                    df_categories_coluna['category_name']\n",
    "                )\n",
    "            )\n",
    "\n",
    "    cnx.commit()\n",
    "    cursor.close()\n",
    "    cnx.close()   \n",
    "\n",
    "df_categories = pd.read_csv(r'D:\\engenharia de dados\\curso udemy\\Arquivos\\02.+MySQL\\02. MySQL\\Diagrama MySQL\\archive\\categories.csv', sep=',') \n",
    "carga_categories(df_categories)"
   ]
  }
 ],
 "metadata": {
  "kernelspec": {
   "display_name": "sgbds",
   "language": "python",
   "name": "python3"
  },
  "language_info": {
   "codemirror_mode": {
    "name": "ipython",
    "version": 3
   },
   "file_extension": ".py",
   "mimetype": "text/x-python",
   "name": "python",
   "nbconvert_exporter": "python",
   "pygments_lexer": "ipython3",
   "version": "3.13.5"
  }
 },
 "nbformat": 4,
 "nbformat_minor": 5
}
