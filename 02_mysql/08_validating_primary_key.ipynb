{
 "cells": [
  {
   "cell_type": "markdown",
   "id": "b2dc9ee8",
   "metadata": {},
   "source": [
    "Insert Dataframe data in MySQL"
   ]
  },
  {
   "cell_type": "code",
   "execution_count": 1,
   "id": "eab82cbb",
   "metadata": {},
   "outputs": [
    {
     "data": {
      "text/html": [
       "<div>\n",
       "<style scoped>\n",
       "    .dataframe tbody tr th:only-of-type {\n",
       "        vertical-align: middle;\n",
       "    }\n",
       "\n",
       "    .dataframe tbody tr th {\n",
       "        vertical-align: top;\n",
       "    }\n",
       "\n",
       "    .dataframe thead th {\n",
       "        text-align: right;\n",
       "    }\n",
       "</style>\n",
       "<table border=\"1\" class=\"dataframe\">\n",
       "  <thead>\n",
       "    <tr style=\"text-align: right;\">\n",
       "      <th></th>\n",
       "      <th>category_id</th>\n",
       "      <th>category_name</th>\n",
       "    </tr>\n",
       "  </thead>\n",
       "  <tbody>\n",
       "    <tr>\n",
       "      <th>0</th>\n",
       "      <td>1</td>\n",
       "      <td>Children Bicycles</td>\n",
       "    </tr>\n",
       "    <tr>\n",
       "      <th>1</th>\n",
       "      <td>2</td>\n",
       "      <td>Comfort Bicycles</td>\n",
       "    </tr>\n",
       "    <tr>\n",
       "      <th>2</th>\n",
       "      <td>3</td>\n",
       "      <td>Cruisers Bicycles</td>\n",
       "    </tr>\n",
       "    <tr>\n",
       "      <th>3</th>\n",
       "      <td>4</td>\n",
       "      <td>Cyclocross Bicycles</td>\n",
       "    </tr>\n",
       "    <tr>\n",
       "      <th>4</th>\n",
       "      <td>5</td>\n",
       "      <td>Electric Bikes</td>\n",
       "    </tr>\n",
       "    <tr>\n",
       "      <th>5</th>\n",
       "      <td>6</td>\n",
       "      <td>Mountain Bikes</td>\n",
       "    </tr>\n",
       "    <tr>\n",
       "      <th>6</th>\n",
       "      <td>7</td>\n",
       "      <td>Road Bikes</td>\n",
       "    </tr>\n",
       "  </tbody>\n",
       "</table>\n",
       "</div>"
      ],
      "text/plain": [
       "   category_id        category_name\n",
       "0            1    Children Bicycles\n",
       "1            2     Comfort Bicycles\n",
       "2            3    Cruisers Bicycles\n",
       "3            4  Cyclocross Bicycles\n",
       "4            5       Electric Bikes\n",
       "5            6       Mountain Bikes\n",
       "6            7           Road Bikes"
      ]
     },
     "execution_count": 1,
     "metadata": {},
     "output_type": "execute_result"
    }
   ],
   "source": [
    "import pandas as pd\n",
    "caminho_categories = r\"D:\\engenharia de dados\\curso udemy\\Arquivos\\02.+MySQL\\02. MySQL\\Diagrama MySQL\\archive\\categories.csv\"\n",
    "\n",
    "df_categories = pd.read_csv(caminho_categories, sep=',')\n",
    "df_categories.head(7)"
   ]
  },
  {
   "cell_type": "code",
   "execution_count": 6,
   "id": "53f02a43",
   "metadata": {},
   "outputs": [],
   "source": [
    "import mysql.connector\n",
    "\n",
    "cnx = mysql.connector.connect(user='root', password='teste123', host='localhost', database='python')  \n",
    "cursor = cnx.cursor()        \n",
    "\n",
    "for i, df_categories_coluna in df_categories.iterrows():\n",
    "    cursor.execute('SELECT category_id FROM python.categories WHERE category_id = %s',(df_categories_coluna['category_id'],))\n",
    "    result = cursor.fetchone()\n",
    "\n",
    "    if not result :\n",
    "        cursor.execute(\n",
    "            '''\n",
    "            INSERT INTO python.categories\n",
    "            (category_id, category_name)\n",
    "            VALUES (%s, %s)    \n",
    "            ''',(\n",
    "                df_categories_coluna['category_id'],\n",
    "                df_categories_coluna['category_name']\n",
    "            )\n",
    "        )\n",
    "\n",
    "cnx.commit()\n",
    "\n",
    "cursor.close()\n",
    "cnx.close()    "
   ]
  }
 ],
 "metadata": {
  "kernelspec": {
   "display_name": "sgbds",
   "language": "python",
   "name": "python3"
  },
  "language_info": {
   "codemirror_mode": {
    "name": "ipython",
    "version": 3
   },
   "file_extension": ".py",
   "mimetype": "text/x-python",
   "name": "python",
   "nbconvert_exporter": "python",
   "pygments_lexer": "ipython3",
   "version": "3.13.5"
  }
 },
 "nbformat": 4,
 "nbformat_minor": 5
}
