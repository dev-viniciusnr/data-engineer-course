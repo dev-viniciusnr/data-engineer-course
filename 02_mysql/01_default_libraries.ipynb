{
 "cells": [
  {
   "cell_type": "markdown",
   "id": "fc6ad6b6",
   "metadata": {},
   "source": [
    "Installing standard MYSQL libraries"
   ]
  },
  {
   "cell_type": "code",
   "execution_count": null,
   "id": "2836ee18",
   "metadata": {},
   "outputs": [],
   "source": [
    "\"\"\"\n",
    "sgbds\\Scripts\\activate\n",
    "pip install mysql-connector-python  # Conexao com banco de dados MySQL\n",
    "pip install mysql-connector-python --upgrade #upgrade\n",
    "pip install openpyxl  # Trabalhar com arquivo Excel\n",
    "pip install pandas    # manipulacao e analise de dados (Df)\n",
    "\n",
    "para upgrade \n",
    "pip install --upgrade pandas\n",
    "\"\"\""
   ]
  }
 ],
 "metadata": {
  "language_info": {
   "name": "python"
  }
 },
 "nbformat": 4,
 "nbformat_minor": 5
}
