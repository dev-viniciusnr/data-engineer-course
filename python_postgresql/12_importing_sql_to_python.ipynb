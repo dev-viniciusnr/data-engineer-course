{
 "cells": [
  {
   "cell_type": "code",
   "execution_count": 5,
   "id": "0de461ce",
   "metadata": {},
   "outputs": [
    {
     "name": "stderr",
     "output_type": "stream",
     "text": [
      "C:\\Users\\nicon\\AppData\\Local\\Temp\\ipykernel_13116\\1533530676.py:28: UserWarning: pandas only supports SQLAlchemy connectable (engine/connection) or database string URI or sqlite3 DBAPI2 connection. Other DBAPI2 objects are not tested. Please consider using SQLAlchemy.\n",
      "  df = pd.read_sql_query(query, conexao)\n"
     ]
    },
    {
     "data": {
      "text/html": [
       "<div>\n",
       "<style scoped>\n",
       "    .dataframe tbody tr th:only-of-type {\n",
       "        vertical-align: middle;\n",
       "    }\n",
       "\n",
       "    .dataframe tbody tr th {\n",
       "        vertical-align: top;\n",
       "    }\n",
       "\n",
       "    .dataframe thead th {\n",
       "        text-align: right;\n",
       "    }\n",
       "</style>\n",
       "<table border=\"1\" class=\"dataframe\">\n",
       "  <thead>\n",
       "    <tr style=\"text-align: right;\">\n",
       "      <th></th>\n",
       "      <th>id</th>\n",
       "      <th>dt_ocorrencia</th>\n",
       "      <th>uf</th>\n",
       "      <th>regiao</th>\n",
       "      <th>classificacao_da_ocorrencia</th>\n",
       "    </tr>\n",
       "  </thead>\n",
       "  <tbody>\n",
       "    <tr>\n",
       "      <th>0</th>\n",
       "      <td>7762</td>\n",
       "      <td>2018-03-21</td>\n",
       "      <td>SP</td>\n",
       "      <td>Sudeste</td>\n",
       "      <td>Incidente</td>\n",
       "    </tr>\n",
       "    <tr>\n",
       "      <th>1</th>\n",
       "      <td>7759</td>\n",
       "      <td>2018-03-14</td>\n",
       "      <td>MG</td>\n",
       "      <td>Sudeste</td>\n",
       "      <td>Acidente</td>\n",
       "    </tr>\n",
       "    <tr>\n",
       "      <th>2</th>\n",
       "      <td>7758</td>\n",
       "      <td>2018-01-26</td>\n",
       "      <td>GO</td>\n",
       "      <td>Centro-Oeste</td>\n",
       "      <td>Acidente</td>\n",
       "    </tr>\n",
       "    <tr>\n",
       "      <th>3</th>\n",
       "      <td>7758</td>\n",
       "      <td>2018-01-26</td>\n",
       "      <td>GO</td>\n",
       "      <td>Centro-Oeste</td>\n",
       "      <td>Acidente</td>\n",
       "    </tr>\n",
       "    <tr>\n",
       "      <th>4</th>\n",
       "      <td>7757</td>\n",
       "      <td>2018-03-18</td>\n",
       "      <td>RS</td>\n",
       "      <td>Sul</td>\n",
       "      <td>Incidente Grave</td>\n",
       "    </tr>\n",
       "  </tbody>\n",
       "</table>\n",
       "</div>"
      ],
      "text/plain": [
       "     id dt_ocorrencia  uf        regiao classificacao_da_ocorrencia\n",
       "0  7762    2018-03-21  SP       Sudeste                   Incidente\n",
       "1  7759    2018-03-14  MG       Sudeste                    Acidente\n",
       "2  7758    2018-01-26  GO  Centro-Oeste                    Acidente\n",
       "3  7758    2018-01-26  GO  Centro-Oeste                    Acidente\n",
       "4  7757    2018-03-18  RS           Sul             Incidente Grave"
      ]
     },
     "execution_count": 5,
     "metadata": {},
     "output_type": "execute_result"
    }
   ],
   "source": [
    "import pandas as pd\n",
    "import psycopg2\n",
    "\n",
    "# Parâmetros de conexão\n",
    "dbname   = 'python'\n",
    "user     = 'postgres'\n",
    "password = 'teste123'\n",
    "host     = 'localhost'\n",
    "port     = '5432' \n",
    "\n",
    "# Criar uma conexão\n",
    "conexao = psycopg2.connect(dbname=dbname,\n",
    "                        user=user,\n",
    "                        password=password,\n",
    "                        host=host,\n",
    "                        port=port)\n",
    "\n",
    "query = \"\"\"\n",
    "    select \n",
    "    id\n",
    "    ,dt_ocorrencia\n",
    "    ,uf\n",
    "    ,regiao\n",
    "    ,classificacao_da_ocorrencia\n",
    "    from public.anac_mapeamento\n",
    "\"\"\"\n",
    "\n",
    "df = pd.read_sql_query(query, conexao)\n",
    "df.head(5)\n"
   ]
  },
  {
   "cell_type": "markdown",
   "id": "f9c8bf31",
   "metadata": {},
   "source": [
    "Sqlalchemy connection"
   ]
  },
  {
   "cell_type": "code",
   "execution_count": null,
   "id": "c98ba545",
   "metadata": {},
   "outputs": [],
   "source": [
    "from sqlalchemy import create_engine ,Integer, String, Date,VARCHAR,text\n",
    "\n",
    "dbname   = 'python'\n",
    "user     = 'postgres'\n",
    "password = 'teste123'\n",
    "host     = 'localhost'\n",
    "port     = '5432' \n",
    "\n",
    "conexao_str = f'postgresql://{user}:{password}@{host}:{port}/{dbname}'\n",
    "engine = create_engine(conexao_str)\n",
    "\n",
    "query2 = \"\"\"\n",
    "    select * \n",
    "    from public.anac_mapeamento\n",
    "\"\"\"\n",
    "\n",
    "df2 = pd.read_sql_query(query2, conexao)\n",
    "df2.head(5)\n"
   ]
  }
 ],
 "metadata": {
  "kernelspec": {
   "display_name": "sgbds",
   "language": "python",
   "name": "python3"
  },
  "language_info": {
   "codemirror_mode": {
    "name": "ipython",
    "version": 3
   },
   "file_extension": ".py",
   "mimetype": "text/x-python",
   "name": "python",
   "nbconvert_exporter": "python",
   "pygments_lexer": "ipython3",
   "version": "3.13.5"
  }
 },
 "nbformat": 4,
 "nbformat_minor": 5
}
