{
 "cells": [
  {
   "cell_type": "code",
   "execution_count": 1,
   "metadata": {},
   "outputs": [],
   "source": [
    "from sqlalchemy import create_engine ,Integer, String, Date,VARCHAR,text\n",
    "from datetime import datetime\n",
    "import pandas as pd"
   ]
  },
  {
   "cell_type": "code",
   "execution_count": 2,
   "metadata": {},
   "outputs": [],
   "source": [
    "pd.set_option('display.max_columns', None)\n",
    "caminho_do_arquivo = r\"D:\\engenharia de dados\\curso udemy\\Arquivos\\01.+Postgree\\01. Postgree\\Origem de dados\\V_OCORRENCIA_AMPLA.json\"\n",
    "df = pd.read_json(caminho_do_arquivo, encoding='utf-8-sig')\n",
    "colunas = [\"Numero_da_Ocorrencia\", \"Classificacao_da_Ocorrência\", \"Data_da_Ocorrencia\",\"Municipio\",\"UF\",\"Regiao\",\"Nome_do_Fabricante\",\"Modelo\"]\n",
    "df = df[colunas]\n",
    "df.rename( columns={  'Classificacao_da_Ocorrência' : 'Classificacao_da_Ocorrencia'  } ,inplace=True )"
   ]
  },
  {
   "cell_type": "code",
   "execution_count": 3,
   "metadata": {},
   "outputs": [],
   "source": [
    "df['Data_da_Ocorrencia'] = pd.to_datetime(df['Data_da_Ocorrencia'])\n",
    "ano = 2024\n",
    "df = df[df['Data_da_Ocorrencia'].dt.year == ano]"
   ]
  },
  {
   "cell_type": "code",
   "execution_count": 4,
   "metadata": {},
   "outputs": [],
   "source": [
    "dbname   = 'python'\n",
    "user     = 'postgres'\n",
    "password = 'teste123'\n",
    "host     = 'localhost'\n",
    "port     = '5432' \n",
    "\n",
    "conn = f'postgresql://{user}:{password}@{host}:{port}/{dbname}'\n",
    "engine = create_engine(conn)\n",
    "\n",
    "nome_tabela = 'anac_sqlalchemy' \n",
    "\n",
    "cursor=engine.connect() \n",
    "delete = text(f'delete from public.anac_sqlalchemy where extract(year from \"Data_da_Ocorrencia\")= {ano}')\n",
    "cursor.execute(delete)\n",
    "cursor.commit()\n",
    "\n",
    "df.to_sql(nome_tabela, engine, index=False, if_exists='append',\n",
    "      dtype={ \n",
    "            'Numero_da_Ocorrencia' :   Integer ,\n",
    "            'Classificacao_da_Ocorrencia': VARCHAR(50),\n",
    "            'Data_da_Ocorrencia':Date  \n",
    "            })\n",
    "engine.dispose()\n",
    "cursor.close()"
   ]
  }
 ],
 "metadata": {
  "kernelspec": {
   "display_name": "sgbds",
   "language": "python",
   "name": "python3"
  },
  "language_info": {
   "codemirror_mode": {
    "name": "ipython",
    "version": 3
   },
   "file_extension": ".py",
   "mimetype": "text/x-python",
   "name": "python",
   "nbconvert_exporter": "python",
   "pygments_lexer": "ipython3",
   "version": "3.13.5"
  }
 },
 "nbformat": 4,
 "nbformat_minor": 2
}
