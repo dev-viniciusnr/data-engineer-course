{
 "cells": [
  {
   "cell_type": "code",
   "execution_count": 1,
   "metadata": {},
   "outputs": [],
   "source": [
    "from sqlalchemy import create_engine ,Integer, String, Date,VARCHAR,text\n",
    "import pandas as pd"
   ]
  },
  {
   "cell_type": "code",
   "execution_count": 2,
   "metadata": {},
   "outputs": [],
   "source": [
    "\n",
    "pd.set_option('display.max_columns', None)\n",
    "caminho_do_arquivo = r\"D:\\engenharia de dados\\curso udemy\\Arquivos\\01.+Postgree\\01. Postgree\\Origem de dados\\V_OCORRENCIA_AMPLA.json\"\n",
    "df = pd.read_json(caminho_do_arquivo, encoding='utf-8-sig')\n",
    "colunas = [\"Numero_da_Ocorrencia\", \"Classificacao_da_Ocorrência\", \"Data_da_Ocorrencia\",\"Municipio\",\"UF\",\"Regiao\",\"Nome_do_Fabricante\",\"Modelo\"]\n",
    "df = df[colunas]\n",
    "df.rename( columns={  'Classificacao_da_Ocorrência' : 'Classificacao_da_Ocorrencia'  } ,inplace=True )\n"
   ]
  },
  {
   "cell_type": "code",
   "execution_count": 3,
   "metadata": {},
   "outputs": [
    {
     "data": {
      "text/html": [
       "<div>\n",
       "<style scoped>\n",
       "    .dataframe tbody tr th:only-of-type {\n",
       "        vertical-align: middle;\n",
       "    }\n",
       "\n",
       "    .dataframe tbody tr th {\n",
       "        vertical-align: top;\n",
       "    }\n",
       "\n",
       "    .dataframe thead th {\n",
       "        text-align: right;\n",
       "    }\n",
       "</style>\n",
       "<table border=\"1\" class=\"dataframe\">\n",
       "  <thead>\n",
       "    <tr style=\"text-align: right;\">\n",
       "      <th></th>\n",
       "      <th>Numero_da_Ocorrencia</th>\n",
       "      <th>Classificacao_da_Ocorrencia</th>\n",
       "      <th>Data_da_Ocorrencia</th>\n",
       "      <th>Municipio</th>\n",
       "      <th>UF</th>\n",
       "      <th>Regiao</th>\n",
       "      <th>Nome_do_Fabricante</th>\n",
       "      <th>Modelo</th>\n",
       "    </tr>\n",
       "  </thead>\n",
       "  <tbody>\n",
       "    <tr>\n",
       "      <th>0</th>\n",
       "      <td>7762</td>\n",
       "      <td>Incidente</td>\n",
       "      <td>2018-03-21</td>\n",
       "      <td>SÃO PAULO</td>\n",
       "      <td>SP</td>\n",
       "      <td>Sudeste</td>\n",
       "      <td>AGUSTA</td>\n",
       "      <td>AW109SP</td>\n",
       "    </tr>\n",
       "    <tr>\n",
       "      <th>1</th>\n",
       "      <td>7759</td>\n",
       "      <td>Acidente</td>\n",
       "      <td>2018-03-14</td>\n",
       "      <td>MONTES CLAROS</td>\n",
       "      <td>MG</td>\n",
       "      <td>Sudeste</td>\n",
       "      <td>CESSNA AIRCRAFT</td>\n",
       "      <td>A152</td>\n",
       "    </tr>\n",
       "    <tr>\n",
       "      <th>2</th>\n",
       "      <td>7758</td>\n",
       "      <td>Acidente</td>\n",
       "      <td>2018-01-26</td>\n",
       "      <td>INACIOLÂNDIA</td>\n",
       "      <td>GO</td>\n",
       "      <td>Centro-Oeste</td>\n",
       "      <td>CESSNA AIRCRAFT</td>\n",
       "      <td>T188C</td>\n",
       "    </tr>\n",
       "    <tr>\n",
       "      <th>3</th>\n",
       "      <td>7758</td>\n",
       "      <td>Acidente</td>\n",
       "      <td>2018-01-26</td>\n",
       "      <td>INACIOLÂNDIA</td>\n",
       "      <td>GO</td>\n",
       "      <td>Centro-Oeste</td>\n",
       "      <td>CESSNA AIRCRAFT</td>\n",
       "      <td>T188C</td>\n",
       "    </tr>\n",
       "    <tr>\n",
       "      <th>4</th>\n",
       "      <td>7757</td>\n",
       "      <td>Incidente Grave</td>\n",
       "      <td>2018-03-18</td>\n",
       "      <td>TORRES</td>\n",
       "      <td>RS</td>\n",
       "      <td>Sul</td>\n",
       "      <td>PIPER AIRCRAFT</td>\n",
       "      <td>PA-34-200</td>\n",
       "    </tr>\n",
       "  </tbody>\n",
       "</table>\n",
       "</div>"
      ],
      "text/plain": [
       "   Numero_da_Ocorrencia Classificacao_da_Ocorrencia Data_da_Ocorrencia  \\\n",
       "0                  7762                   Incidente         2018-03-21   \n",
       "1                  7759                    Acidente         2018-03-14   \n",
       "2                  7758                    Acidente         2018-01-26   \n",
       "3                  7758                    Acidente         2018-01-26   \n",
       "4                  7757             Incidente Grave         2018-03-18   \n",
       "\n",
       "       Municipio  UF        Regiao Nome_do_Fabricante     Modelo  \n",
       "0      SÃO PAULO  SP       Sudeste             AGUSTA    AW109SP  \n",
       "1  MONTES CLAROS  MG       Sudeste    CESSNA AIRCRAFT       A152  \n",
       "2   INACIOLÂNDIA  GO  Centro-Oeste    CESSNA AIRCRAFT      T188C  \n",
       "3   INACIOLÂNDIA  GO  Centro-Oeste    CESSNA AIRCRAFT      T188C  \n",
       "4         TORRES  RS           Sul     PIPER AIRCRAFT  PA-34-200  "
      ]
     },
     "execution_count": 3,
     "metadata": {},
     "output_type": "execute_result"
    }
   ],
   "source": [
    "df.head()"
   ]
  },
  {
   "cell_type": "code",
   "execution_count": 6,
   "metadata": {},
   "outputs": [
    {
     "data": {
      "text/plain": [
       "13011"
      ]
     },
     "execution_count": 6,
     "metadata": {},
     "output_type": "execute_result"
    }
   ],
   "source": [
    "df.shape[0]"
   ]
  },
  {
   "cell_type": "markdown",
   "metadata": {},
   "source": [
    "Filtering by the last 3 months, but we don't have data to filter by the last 3 months, so I put a fixed variable to follow the course"
   ]
  },
  {
   "cell_type": "code",
   "execution_count": 9,
   "metadata": {},
   "outputs": [
    {
     "name": "stdout",
     "output_type": "stream",
     "text": [
      "2023-10-18\n"
     ]
    }
   ],
   "source": [
    "from datetime import datetime, timedelta\n",
    "\n",
    "data_atual = datetime.now()\n",
    "data_ha_3_meses = data_atual - timedelta(days=3*30) \n",
    "data_ha_3_meses_apenas_data = data_ha_3_meses.date()\n",
    "\n",
    "data_ha_3_meses_apenas_data = datetime(2023, 10, 18).date()\n",
    "\n",
    "print(data_ha_3_meses_apenas_data)"
   ]
  },
  {
   "cell_type": "code",
   "execution_count": 10,
   "metadata": {},
   "outputs": [
    {
     "name": "stdout",
     "output_type": "stream",
     "text": [
      "2023-10-16\n"
     ]
    }
   ],
   "source": [
    "from datetime import datetime\n",
    "from dateutil.relativedelta import relativedelta\n",
    "\n",
    "data_atual2 = datetime.now()\n",
    "d_menos3M = data_atual - relativedelta(months=3) \n",
    "dt_d_menos3M = d_menos3M.date()\n",
    "\n",
    "dt_d_menos3M = datetime(2023, 10, 16).date()\n",
    "\n",
    "print(dt_d_menos3M)\n"
   ]
  },
  {
   "cell_type": "code",
   "execution_count": 11,
   "metadata": {},
   "outputs": [
    {
     "data": {
      "text/plain": [
       "Numero_da_Ocorrencia            int64\n",
       "Classificacao_da_Ocorrencia    object\n",
       "Data_da_Ocorrencia             object\n",
       "Municipio                      object\n",
       "UF                             object\n",
       "Regiao                         object\n",
       "Nome_do_Fabricante             object\n",
       "Modelo                         object\n",
       "dtype: object"
      ]
     },
     "execution_count": 11,
     "metadata": {},
     "output_type": "execute_result"
    }
   ],
   "source": [
    "df.dtypes"
   ]
  },
  {
   "cell_type": "code",
   "execution_count": 12,
   "metadata": {},
   "outputs": [],
   "source": [
    "df['Data_da_Ocorrencia']    = pd.to_datetime(df['Data_da_Ocorrencia'])\n",
    "data_ha_3_meses_apenas_data = pd.to_datetime(data_ha_3_meses_apenas_data)\n",
    "dt_d_menos3M                = pd.to_datetime(dt_d_menos3M)"
   ]
  },
  {
   "cell_type": "code",
   "execution_count": 19,
   "metadata": {},
   "outputs": [
    {
     "data": {
      "text/plain": [
       "(537, 8)"
      ]
     },
     "execution_count": 19,
     "metadata": {},
     "output_type": "execute_result"
    }
   ],
   "source": [
    "df.shape"
   ]
  },
  {
   "cell_type": "code",
   "execution_count": 18,
   "metadata": {},
   "outputs": [],
   "source": [
    "df = df[df['Data_da_Ocorrencia'] >= dt_d_menos3M]"
   ]
  },
  {
   "cell_type": "code",
   "execution_count": 21,
   "metadata": {},
   "outputs": [
    {
     "data": {
      "text/html": [
       "<div>\n",
       "<style scoped>\n",
       "    .dataframe tbody tr th:only-of-type {\n",
       "        vertical-align: middle;\n",
       "    }\n",
       "\n",
       "    .dataframe tbody tr th {\n",
       "        vertical-align: top;\n",
       "    }\n",
       "\n",
       "    .dataframe thead th {\n",
       "        text-align: right;\n",
       "    }\n",
       "</style>\n",
       "<table border=\"1\" class=\"dataframe\">\n",
       "  <thead>\n",
       "    <tr style=\"text-align: right;\">\n",
       "      <th></th>\n",
       "      <th>Numero_da_Ocorrencia</th>\n",
       "      <th>Classificacao_da_Ocorrencia</th>\n",
       "      <th>Data_da_Ocorrencia</th>\n",
       "      <th>Municipio</th>\n",
       "      <th>UF</th>\n",
       "      <th>Regiao</th>\n",
       "      <th>Nome_do_Fabricante</th>\n",
       "      <th>Modelo</th>\n",
       "    </tr>\n",
       "  </thead>\n",
       "  <tbody>\n",
       "    <tr>\n",
       "      <th>4125</th>\n",
       "      <td>39891</td>\n",
       "      <td>Incidente</td>\n",
       "      <td>2023-10-30</td>\n",
       "      <td>SOROCABA</td>\n",
       "      <td>SP</td>\n",
       "      <td>Sudeste</td>\n",
       "      <td>BEECH AIRCRAFT</td>\n",
       "      <td>58</td>\n",
       "    </tr>\n",
       "    <tr>\n",
       "      <th>4128</th>\n",
       "      <td>41028</td>\n",
       "      <td>Incidente</td>\n",
       "      <td>2023-11-06</td>\n",
       "      <td>CONFINS</td>\n",
       "      <td>MG</td>\n",
       "      <td>Sudeste</td>\n",
       "      <td>AIRBUS S.A.S.</td>\n",
       "      <td>A320-251N</td>\n",
       "    </tr>\n",
       "    <tr>\n",
       "      <th>4129</th>\n",
       "      <td>41112</td>\n",
       "      <td>Incidente</td>\n",
       "      <td>2023-11-10</td>\n",
       "      <td>JOINVILLE</td>\n",
       "      <td>SC</td>\n",
       "      <td>Sul</td>\n",
       "      <td>ATR - GIE AVIONS DE TRANSPORT RÉGIONAL</td>\n",
       "      <td>ATR-72-212A (600)</td>\n",
       "    </tr>\n",
       "  </tbody>\n",
       "</table>\n",
       "</div>"
      ],
      "text/plain": [
       "      Numero_da_Ocorrencia Classificacao_da_Ocorrencia Data_da_Ocorrencia  \\\n",
       "4125                 39891                   Incidente         2023-10-30   \n",
       "4128                 41028                   Incidente         2023-11-06   \n",
       "4129                 41112                   Incidente         2023-11-10   \n",
       "\n",
       "       Municipio  UF   Regiao                      Nome_do_Fabricante  \\\n",
       "4125   SOROCABA   SP  Sudeste                          BEECH AIRCRAFT   \n",
       "4128    CONFINS   MG  Sudeste                           AIRBUS S.A.S.   \n",
       "4129  JOINVILLE   SC      Sul  ATR - GIE AVIONS DE TRANSPORT RÉGIONAL   \n",
       "\n",
       "                 Modelo  \n",
       "4125                 58  \n",
       "4128          A320-251N  \n",
       "4129  ATR-72-212A (600)  "
      ]
     },
     "execution_count": 21,
     "metadata": {},
     "output_type": "execute_result"
    }
   ],
   "source": [
    "df.head(3)"
   ]
  },
  {
   "cell_type": "code",
   "execution_count": 24,
   "metadata": {},
   "outputs": [],
   "source": [
    "#conexao com banco de dados\n",
    "dbname   = 'python'\n",
    "user     = 'postgres'\n",
    "password = 'teste123'\n",
    "host     = 'localhost'\n",
    "port     = '5432' \n",
    "\n",
    "conexao_str = f'postgresql://{user}:{password}@{host}:{port}/{dbname}'\n",
    "engine = create_engine(conexao_str)\n",
    "\n",
    "nome_tabela = 'anac_sqlalchemy' \n",
    "\n",
    "# Deletar registros com base no ano atual\n",
    "cursor=engine.connect() \n",
    "delete = text(f'''    delete from public.{nome_tabela}\t\n",
    "                      WHERE \"Data_da_Ocorrencia\" >=  '{dt_d_menos3M}'\n",
    "                ''')\n",
    "cursor.execute(delete)\n",
    "cursor.commit()\n",
    "\n",
    "# Enviar DataFrame para o banco de dados\n",
    "df.to_sql(nome_tabela, engine, index=False, if_exists='append',\n",
    "                     dtype={ \n",
    "                           'Numero_da_Ocorrencia' :   Integer ,\n",
    "                           'Classificacao_da_Ocorrencia': VARCHAR(50),\n",
    "                           'Data_da_Ocorrencia':Date  \n",
    "                           })\n",
    "\n",
    "engine.dispose()\n",
    "cursor.close()"
   ]
  }
 ],
 "metadata": {
  "kernelspec": {
   "display_name": "sgbds",
   "language": "python",
   "name": "python3"
  },
  "language_info": {
   "codemirror_mode": {
    "name": "ipython",
    "version": 3
   },
   "file_extension": ".py",
   "mimetype": "text/x-python",
   "name": "python",
   "nbconvert_exporter": "python",
   "pygments_lexer": "ipython3",
   "version": "3.13.5"
  }
 },
 "nbformat": 4,
 "nbformat_minor": 2
}
