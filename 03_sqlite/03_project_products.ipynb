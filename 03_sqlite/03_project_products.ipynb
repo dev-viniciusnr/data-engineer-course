{
 "cells": [
  {
   "cell_type": "markdown",
   "id": "101783cc",
   "metadata": {},
   "source": [
    "Create Database, Create Table "
   ]
  },
  {
   "cell_type": "code",
   "execution_count": null,
   "id": "f924e360",
   "metadata": {},
   "outputs": [],
   "source": [
    "import sqlite3\n",
    "con = sqlite3.connect(\"database/cadastro_produto.db\")\n",
    "\n",
    "cursor = con.cursor()\n",
    "\n",
    "'''cursor.execute(\"\"\"\n",
    "               CREATE TABLE produto\n",
    "               (id, nome, valor, fornecedor, categoria, responsavel_cadastro)\n",
    "               \"\"\" )'''\n",
    "\n",
    "con.commit()\n",
    "con.close()"
   ]
  },
  {
   "cell_type": "markdown",
   "id": "c967b996",
   "metadata": {},
   "source": [
    "Making Interface"
   ]
  },
  {
   "cell_type": "code",
   "execution_count": 12,
   "id": "1816352d",
   "metadata": {},
   "outputs": [],
   "source": [
    "import tkinter as tk\n",
    "import sqlite3\n",
    "janela = tk.Tk()\n",
    "\n",
    "def cadastrar_produto():\n",
    "    id_produto = entry_id.get()\n",
    "    nome_produto = entry_nome.get()\n",
    "    valor_produto = entry_valor.get()\n",
    "    fornecedor_produto = entry_fornecedor.get()\n",
    "    categoria_produto = entry_categoria.get()\n",
    "    responsavel_produto = entry_responsavel.get()\n",
    "    \n",
    "    con = sqlite3.connect(\"database/cadastro_produto.db\")\n",
    "    cursor = con.cursor()\n",
    "\n",
    "    cursor.execute(\"\"\"\n",
    "                INSERT INTO produto\n",
    "                (id, nome, valor, fornecedor, categoria, responsavel_cadastro)\n",
    "                VALUES (?, ?, ?, ?, ?, ?)\n",
    "                \"\"\",\n",
    "                 (id_produto, nome_produto, valor_produto, fornecedor_produto\n",
    "                  , categoria_produto, responsavel_produto) )\n",
    "\n",
    "    con.commit()\n",
    "    con.close()\n",
    "\n",
    "\n",
    "\n",
    "janela.title('Cadastro de Produto')\n",
    "\n",
    "#id\n",
    "label_id = tk.Label(janela, text=\"ID do Produto:\").grid(row=0, column=0, padx=10, pady=10)\n",
    "entry_id = tk.Entry(janela, width=30)\n",
    "entry_id.grid(row=0, column=1, padx=10, pady=10)\n",
    "\n",
    "#name\n",
    "label_nome = tk.Label(janela, text=\"Nome do Produto:\").grid(row=1, column=0, padx=10, pady=10)\n",
    "entry_nome = tk.Entry(janela, width=30)\n",
    "entry_nome.grid(row=1, column=1, padx=10, pady=10)\n",
    "\n",
    "#value\n",
    "label_valor = tk.Label(janela, text=\"Valor do Produto:\").grid(row=2, column=0, padx=10, pady=10)\n",
    "entry_valor = tk.Entry(janela, width=30)\n",
    "entry_valor.grid(row=2, column=1, padx=10, pady=10)\n",
    "\n",
    "#supplier\n",
    "label_fornecedor = tk.Label(janela, text=\"Fornecedor do Produto:\").grid(row=3, column=0, padx=10, pady=10)\n",
    "entry_fornecedor = tk.Entry(janela, width=30)\n",
    "entry_fornecedor.grid(row=3, column=1, padx=10, pady=10)\n",
    "\n",
    "#category\n",
    "label_categoria = tk.Label(janela, text=\"Categoria do Produto:\").grid(row=4, column=0, padx=10, pady=10)\n",
    "entry_categoria = tk.Entry(janela, width=30)\n",
    "entry_categoria.grid(row=4, column=1, padx=10, pady=10)\n",
    "\n",
    "#responsible for registration\n",
    "label_responsavel = tk.Label(janela, text=\"Responsável pelo Cadastro:\").grid(row=5, column=0, padx=10, pady=10)\n",
    "entry_responsavel = tk.Entry(janela, width=30)\n",
    "entry_responsavel.grid(row=5, column=1, padx=10, pady=10)\n",
    "\n",
    "#register button\n",
    "bt_cadastro = tk.Button(janela, text=\"Cadastrar Produto\", width=25, command=cadastrar_produto).grid(row=6, column=0, padx=10, pady=10)\n",
    "\n",
    "#generate excel\n",
    "bt_gerar_excel = tk.Button(janela, text=\"Gerar Excel\", width=25).grid(row=6, column=1, padx=10, pady=10)\n",
    "\n",
    "\n",
    "janela.mainloop()"
   ]
  }
 ],
 "metadata": {
  "kernelspec": {
   "display_name": "sgbds",
   "language": "python",
   "name": "python3"
  },
  "language_info": {
   "codemirror_mode": {
    "name": "ipython",
    "version": 3
   },
   "file_extension": ".py",
   "mimetype": "text/x-python",
   "name": "python",
   "nbconvert_exporter": "python",
   "pygments_lexer": "ipython3",
   "version": "3.13.5"
  }
 },
 "nbformat": 4,
 "nbformat_minor": 5
}
