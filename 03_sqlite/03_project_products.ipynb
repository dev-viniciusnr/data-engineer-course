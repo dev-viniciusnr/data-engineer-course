{
 "cells": [
  {
   "cell_type": "markdown",
   "id": "101783cc",
   "metadata": {},
   "source": [
    "Create Database, Create Table "
   ]
  },
  {
   "cell_type": "code",
   "execution_count": null,
   "id": "f924e360",
   "metadata": {},
   "outputs": [],
   "source": [
    "import sqlite3\n",
    "con = sqlite3.connect(\"database/cadastro_produto.db\")\n",
    "\n",
    "cursor = con.cursor()\n",
    "\n",
    "'''cursor.execute(\"\"\"\n",
    "               CREATE TABLE produto\n",
    "               (id, nome, valor, fornecedor, categoria, responsavel_cadastro)\n",
    "               \"\"\" )'''\n",
    "\n",
    "con.commit()\n",
    "con.close()"
   ]
  }
 ],
 "metadata": {
  "kernelspec": {
   "display_name": "sgbds",
   "language": "python",
   "name": "python3"
  },
  "language_info": {
   "codemirror_mode": {
    "name": "ipython",
    "version": 3
   },
   "file_extension": ".py",
   "mimetype": "text/x-python",
   "name": "python",
   "nbconvert_exporter": "python",
   "pygments_lexer": "ipython3",
   "version": "3.13.5"
  }
 },
 "nbformat": 4,
 "nbformat_minor": 5
}
