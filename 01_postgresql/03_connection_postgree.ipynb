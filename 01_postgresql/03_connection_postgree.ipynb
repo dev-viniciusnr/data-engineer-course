{
 "cells": [
  {
   "cell_type": "code",
   "execution_count": 4,
   "id": "0f8d6b81",
   "metadata": {},
   "outputs": [],
   "source": [
    "import psycopg2\n",
    "\n",
    "dbname = 'postgres'\n",
    "user = 'postgres'\n",
    "password = 'teste123'\n",
    "host = 'localhost'\n",
    "port = '5432'\n",
    "\n",
    "conn = psycopg2.connect(dbname=dbname, user=user, password=password, host=host, port=port)\n",
    "\n",
    "cur = conn.cursor()\n",
    "\n",
    "#comandos a inserir\n",
    "\n",
    "conn.commit()\n",
    "\n",
    "cur.close()\n",
    "conn.close()"
   ]
  }
 ],
 "metadata": {
  "kernelspec": {
   "display_name": "sgbds",
   "language": "python",
   "name": "python3"
  },
  "language_info": {
   "codemirror_mode": {
    "name": "ipython",
    "version": 3
   },
   "file_extension": ".py",
   "mimetype": "text/x-python",
   "name": "python",
   "nbconvert_exporter": "python",
   "pygments_lexer": "ipython3",
   "version": "3.13.5"
  }
 },
 "nbformat": 4,
 "nbformat_minor": 5
}
