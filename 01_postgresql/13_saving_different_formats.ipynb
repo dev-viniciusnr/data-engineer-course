{
 "cells": [
  {
   "cell_type": "markdown",
   "metadata": {},
   "source": [
    "Saving the file in different formats"
   ]
  },
  {
   "cell_type": "code",
   "execution_count": 1,
   "metadata": {},
   "outputs": [
    {
     "data": {
      "text/html": [
       "<div>\n",
       "<style scoped>\n",
       "    .dataframe tbody tr th:only-of-type {\n",
       "        vertical-align: middle;\n",
       "    }\n",
       "\n",
       "    .dataframe tbody tr th {\n",
       "        vertical-align: top;\n",
       "    }\n",
       "\n",
       "    .dataframe thead th {\n",
       "        text-align: right;\n",
       "    }\n",
       "</style>\n",
       "<table border=\"1\" class=\"dataframe\">\n",
       "  <thead>\n",
       "    <tr style=\"text-align: right;\">\n",
       "      <th></th>\n",
       "      <th>id</th>\n",
       "      <th>dt_ocorrencia</th>\n",
       "      <th>uf</th>\n",
       "      <th>regiao</th>\n",
       "      <th>classificacao_da_ocorrencia</th>\n",
       "    </tr>\n",
       "  </thead>\n",
       "  <tbody>\n",
       "    <tr>\n",
       "      <th>0</th>\n",
       "      <td>7762</td>\n",
       "      <td>2018-03-21</td>\n",
       "      <td>SP</td>\n",
       "      <td>Sudeste</td>\n",
       "      <td>Incidente</td>\n",
       "    </tr>\n",
       "    <tr>\n",
       "      <th>1</th>\n",
       "      <td>7759</td>\n",
       "      <td>2018-03-14</td>\n",
       "      <td>MG</td>\n",
       "      <td>Sudeste</td>\n",
       "      <td>Acidente</td>\n",
       "    </tr>\n",
       "    <tr>\n",
       "      <th>2</th>\n",
       "      <td>7758</td>\n",
       "      <td>2018-01-26</td>\n",
       "      <td>GO</td>\n",
       "      <td>Centro-Oeste</td>\n",
       "      <td>Acidente</td>\n",
       "    </tr>\n",
       "    <tr>\n",
       "      <th>3</th>\n",
       "      <td>7758</td>\n",
       "      <td>2018-01-26</td>\n",
       "      <td>GO</td>\n",
       "      <td>Centro-Oeste</td>\n",
       "      <td>Acidente</td>\n",
       "    </tr>\n",
       "    <tr>\n",
       "      <th>4</th>\n",
       "      <td>7757</td>\n",
       "      <td>2018-03-18</td>\n",
       "      <td>RS</td>\n",
       "      <td>Sul</td>\n",
       "      <td>Incidente Grave</td>\n",
       "    </tr>\n",
       "  </tbody>\n",
       "</table>\n",
       "</div>"
      ],
      "text/plain": [
       "     id dt_ocorrencia  uf        regiao classificacao_da_ocorrencia\n",
       "0  7762    2018-03-21  SP       Sudeste                   Incidente\n",
       "1  7759    2018-03-14  MG       Sudeste                    Acidente\n",
       "2  7758    2018-01-26  GO  Centro-Oeste                    Acidente\n",
       "3  7758    2018-01-26  GO  Centro-Oeste                    Acidente\n",
       "4  7757    2018-03-18  RS           Sul             Incidente Grave"
      ]
     },
     "execution_count": 1,
     "metadata": {},
     "output_type": "execute_result"
    }
   ],
   "source": [
    "from sqlalchemy import create_engine\n",
    "import pandas as pd\n",
    "#conexao com banco de dados\n",
    "dbname   = 'python'\n",
    "user     = 'postgres'\n",
    "password = 'teste123'\n",
    "host     = 'localhost'\n",
    "port     = '5432' \n",
    "\n",
    "conexao_str = f'postgresql://{user}:{password}@{host}:{port}/{dbname}'\n",
    "engine = create_engine(conexao_str)\n",
    "\n",
    "\n",
    "query = \"\"\"\n",
    "select \n",
    "id\n",
    ",dt_ocorrencia\n",
    ",uf\n",
    ",regiao\n",
    ",classificacao_da_ocorrencia\n",
    "from public.anac_mapeamento\n",
    "\n",
    "\n",
    "\"\"\"\n",
    "df=pd.read_sql_query(query,engine )\n",
    "df.head(5)\n"
   ]
  },
  {
   "cell_type": "markdown",
   "metadata": {},
   "source": [
    "JSON"
   ]
  },
  {
   "cell_type": "code",
   "execution_count": 2,
   "metadata": {},
   "outputs": [],
   "source": [
    "pasta_destino_json = r\"D:\\engenharia de dados\\curso udemy\\Github\\python_postgresql\\destiny\\Anac.json\"\n",
    "df.to_json(pasta_destino_json, orient=\"records\", lines=True)"
   ]
  },
  {
   "cell_type": "markdown",
   "metadata": {},
   "source": [
    "Excel"
   ]
  },
  {
   "cell_type": "code",
   "execution_count": 3,
   "metadata": {},
   "outputs": [],
   "source": [
    "pasta_destino_excel = r\"D:\\engenharia de dados\\curso udemy\\Github\\python_postgresql\\destiny\\Anac.xlsx\"\n",
    "df.to_excel(pasta_destino_excel, index = False, sheet_name=\"Base\")"
   ]
  },
  {
   "cell_type": "markdown",
   "metadata": {},
   "source": [
    "CSV"
   ]
  },
  {
   "cell_type": "code",
   "execution_count": 4,
   "metadata": {},
   "outputs": [],
   "source": [
    "pasta_destino_csv = r\"D:\\engenharia de dados\\curso udemy\\Github\\python_postgresql\\destiny\\Anac.csv\"\n",
    "df.to_csv(pasta_destino_csv,sep=',',index=False)"
   ]
  },
  {
   "cell_type": "markdown",
   "metadata": {},
   "source": [
    "Parquet"
   ]
  },
  {
   "cell_type": "code",
   "execution_count": 5,
   "metadata": {},
   "outputs": [],
   "source": [
    "#!pip install pyarrow\n",
    "#!pip install fastparquet\n",
    "\n",
    "pasta_destino_parquet = r\"D:\\engenharia de dados\\curso udemy\\Github\\python_postgresql\\destiny\\Anac.parquet\"\n",
    "df.to_parquet(pasta_destino_parquet, index=False, engine='pyarrow')"
   ]
  },
  {
   "cell_type": "code",
   "execution_count": 6,
   "metadata": {},
   "outputs": [
    {
     "data": {
      "text/html": [
       "<div>\n",
       "<style scoped>\n",
       "    .dataframe tbody tr th:only-of-type {\n",
       "        vertical-align: middle;\n",
       "    }\n",
       "\n",
       "    .dataframe tbody tr th {\n",
       "        vertical-align: top;\n",
       "    }\n",
       "\n",
       "    .dataframe thead th {\n",
       "        text-align: right;\n",
       "    }\n",
       "</style>\n",
       "<table border=\"1\" class=\"dataframe\">\n",
       "  <thead>\n",
       "    <tr style=\"text-align: right;\">\n",
       "      <th></th>\n",
       "      <th>id</th>\n",
       "      <th>dt_ocorrencia</th>\n",
       "      <th>uf</th>\n",
       "      <th>regiao</th>\n",
       "      <th>classificacao_da_ocorrencia</th>\n",
       "    </tr>\n",
       "  </thead>\n",
       "  <tbody>\n",
       "    <tr>\n",
       "      <th>0</th>\n",
       "      <td>7762</td>\n",
       "      <td>2018-03-21</td>\n",
       "      <td>SP</td>\n",
       "      <td>Sudeste</td>\n",
       "      <td>Incidente</td>\n",
       "    </tr>\n",
       "    <tr>\n",
       "      <th>1</th>\n",
       "      <td>7759</td>\n",
       "      <td>2018-03-14</td>\n",
       "      <td>MG</td>\n",
       "      <td>Sudeste</td>\n",
       "      <td>Acidente</td>\n",
       "    </tr>\n",
       "    <tr>\n",
       "      <th>2</th>\n",
       "      <td>7758</td>\n",
       "      <td>2018-01-26</td>\n",
       "      <td>GO</td>\n",
       "      <td>Centro-Oeste</td>\n",
       "      <td>Acidente</td>\n",
       "    </tr>\n",
       "    <tr>\n",
       "      <th>3</th>\n",
       "      <td>7758</td>\n",
       "      <td>2018-01-26</td>\n",
       "      <td>GO</td>\n",
       "      <td>Centro-Oeste</td>\n",
       "      <td>Acidente</td>\n",
       "    </tr>\n",
       "    <tr>\n",
       "      <th>4</th>\n",
       "      <td>7757</td>\n",
       "      <td>2018-03-18</td>\n",
       "      <td>RS</td>\n",
       "      <td>Sul</td>\n",
       "      <td>Incidente Grave</td>\n",
       "    </tr>\n",
       "  </tbody>\n",
       "</table>\n",
       "</div>"
      ],
      "text/plain": [
       "     id dt_ocorrencia  uf        regiao classificacao_da_ocorrencia\n",
       "0  7762    2018-03-21  SP       Sudeste                   Incidente\n",
       "1  7759    2018-03-14  MG       Sudeste                    Acidente\n",
       "2  7758    2018-01-26  GO  Centro-Oeste                    Acidente\n",
       "3  7758    2018-01-26  GO  Centro-Oeste                    Acidente\n",
       "4  7757    2018-03-18  RS           Sul             Incidente Grave"
      ]
     },
     "execution_count": 6,
     "metadata": {},
     "output_type": "execute_result"
    }
   ],
   "source": [
    "df.head()"
   ]
  },
  {
   "cell_type": "code",
   "execution_count": 7,
   "metadata": {},
   "outputs": [
    {
     "data": {
      "text/plain": [
       "Index(['id', 'dt_ocorrencia', 'uf', 'regiao', 'classificacao_da_ocorrencia'], dtype='object')"
      ]
     },
     "execution_count": 7,
     "metadata": {},
     "output_type": "execute_result"
    }
   ],
   "source": [
    "df.columns"
   ]
  },
  {
   "cell_type": "markdown",
   "metadata": {},
   "source": [
    "Parquet partitioned"
   ]
  },
  {
   "cell_type": "code",
   "execution_count": 8,
   "metadata": {},
   "outputs": [],
   "source": [
    "pasta_destino_particionado = r\"D:\\engenharia de dados\\curso udemy\\Github\\python_postgresql\\destiny\\Anac_partitioned.parquet\"\n",
    "colunas_particionamento = ['regiao','uf']\n",
    "\n",
    "df.to_parquet(pasta_destino_particionado, index=False,\n",
    "              partition_cols=colunas_particionamento,\n",
    "              engine='pyarrow'\n",
    "              )"
   ]
  }
 ],
 "metadata": {
  "kernelspec": {
   "display_name": "sgbds",
   "language": "python",
   "name": "python3"
  },
  "language_info": {
   "codemirror_mode": {
    "name": "ipython",
    "version": 3
   },
   "file_extension": ".py",
   "mimetype": "text/x-python",
   "name": "python",
   "nbconvert_exporter": "python",
   "pygments_lexer": "ipython3",
   "version": "3.13.5"
  }
 },
 "nbformat": 4,
 "nbformat_minor": 2
}
