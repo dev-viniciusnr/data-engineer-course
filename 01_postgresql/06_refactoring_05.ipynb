{
 "cells": [
  {
   "cell_type": "code",
   "execution_count": 1,
   "id": "5410615a",
   "metadata": {},
   "outputs": [],
   "source": [
    "import pandas as pd\n",
    "import psycopg2"
   ]
  },
  {
   "cell_type": "code",
   "execution_count": 2,
   "id": "5c0688b6",
   "metadata": {},
   "outputs": [],
   "source": [
    "caminho_do_arquivo = r\"D:\\engenharia de dados\\curso udemy\\Arquivos\\01.+Postgree\\01. Postgree\\Origem de dados\\V_OCORRENCIA_AMPLA.json\"\n",
    "df = pd.read_json(caminho_do_arquivo, encoding='utf-8-sig')"
   ]
  },
  {
   "cell_type": "code",
   "execution_count": 3,
   "id": "a276b9a8",
   "metadata": {},
   "outputs": [],
   "source": [
    "colunas = ['Numero_da_Ocorrencia', 'Classificacao_da_Ocorrência', 'Data_da_Ocorrencia', 'Municipio', 'UF', 'Regiao', 'Nome_do_Fabricante'] \n",
    "df = df[colunas]\n",
    "df.rename(columns={ 'Classificacao_da_Ocorrência' : 'Classificacao_da_Ocorrencia' }, inplace=True)"
   ]
  },
  {
   "cell_type": "code",
   "execution_count": 5,
   "id": "c304a913",
   "metadata": {},
   "outputs": [],
   "source": [
    "dbname = 'python'\n",
    "user = 'postgres'\n",
    "password = 'teste123'\n",
    "host = 'localhost'\n",
    "port = '5432'\n",
    "\n",
    "conn = psycopg2.connect(dbname=dbname, user=user, password=password, host=host, port=port)\n",
    "\n",
    "#Delete base before insert\n",
    "cur = conn.cursor()\n",
    "\n",
    "cur.execute(\"delete from anac \")\n",
    "\n",
    "for indice,linha in df.iterrows():\n",
    "    cur.execute(\"\"\"\n",
    "                insert into Anac (     \n",
    "                    Numero_da_Ocorrencia, \n",
    "                    Classificacao_da_Ocorrencia, \n",
    "                    Data_da_Ocorrencia, \n",
    "                    Municipio, \n",
    "                    UF, \n",
    "                    Regiao, \n",
    "                    Nome_do_Fabricante\n",
    "                ) VALUES (%s, %s, %s, %s, %s, %s, %s)\n",
    "                \"\"\",(\n",
    "                    linha[\"Numero_da_Ocorrencia\"],\n",
    "                    linha[\"Classificacao_da_Ocorrencia\"],\n",
    "                    linha[\"Data_da_Ocorrencia\"],\n",
    "                    linha[\"Municipio\"],\n",
    "                    linha[\"UF\"],\n",
    "                    linha[\"Regiao\"],\n",
    "                    linha[\"Nome_do_Fabricante\"]\n",
    "                )\n",
    "                )\n",
    "\n",
    "conn.commit()\n",
    "cur.close()\n",
    "conn.close()"
   ]
  }
 ],
 "metadata": {
  "kernelspec": {
   "display_name": "sgbds",
   "language": "python",
   "name": "python3"
  },
  "language_info": {
   "codemirror_mode": {
    "name": "ipython",
    "version": 3
   },
   "file_extension": ".py",
   "mimetype": "text/x-python",
   "name": "python",
   "nbconvert_exporter": "python",
   "pygments_lexer": "ipython3",
   "version": "3.13.5"
  }
 },
 "nbformat": 4,
 "nbformat_minor": 5
}
